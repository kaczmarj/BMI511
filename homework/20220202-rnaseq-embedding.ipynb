{
 "cells": [
  {
   "cell_type": "markdown",
   "id": "1bff4ecd",
   "metadata": {},
   "source": [
    "# Embed RNASeq data into two dimensions\n",
    "\n",
    "Data are from [GDC TCGA Acute Myeloid Leukemia (LAML)](https://xenabrowser.net/datapages/?cohort=GDC%20TCGA%20Acute%20Myeloid%20Leukemia%20(LAML)&removeHub=https%3A%2F%2Fxena.treehouse.gi.ucsc.edu%3A443)."
   ]
  },
  {
   "cell_type": "code",
   "execution_count": 1,
   "id": "23a7996f",
   "metadata": {},
   "outputs": [],
   "source": [
    "!wget -q -nc https://gdc-hub.s3.us-east-1.amazonaws.com/download/TCGA-LAML.htseq_counts.tsv.gz"
   ]
  },
  {
   "cell_type": "code",
   "execution_count": 11,
   "id": "10c18a1d",
   "metadata": {},
   "outputs": [],
   "source": [
    "import matplotlib.pyplot as plt\n",
    "import pandas as pd\n",
    "import sklearn.manifold"
   ]
  },
  {
   "cell_type": "code",
   "execution_count": 3,
   "id": "3ed22208",
   "metadata": {},
   "outputs": [
    {
     "data": {
      "text/html": [
       "<div>\n",
       "<style scoped>\n",
       "    .dataframe tbody tr th:only-of-type {\n",
       "        vertical-align: middle;\n",
       "    }\n",
       "\n",
       "    .dataframe tbody tr th {\n",
       "        vertical-align: top;\n",
       "    }\n",
       "\n",
       "    .dataframe thead th {\n",
       "        text-align: right;\n",
       "    }\n",
       "</style>\n",
       "<table border=\"1\" class=\"dataframe\">\n",
       "  <thead>\n",
       "    <tr style=\"text-align: right;\">\n",
       "      <th></th>\n",
       "      <th>Ensembl_ID</th>\n",
       "      <th>TCGA-AB-2949-03B</th>\n",
       "      <th>TCGA-AB-2918-03A</th>\n",
       "      <th>TCGA-AB-2943-03A</th>\n",
       "      <th>TCGA-AB-2851-03A</th>\n",
       "      <th>TCGA-AB-2822-03A</th>\n",
       "      <th>TCGA-AB-2939-03A</th>\n",
       "      <th>TCGA-AB-2931-03A</th>\n",
       "      <th>TCGA-AB-2921-03A</th>\n",
       "      <th>TCGA-AB-2937-03A</th>\n",
       "      <th>...</th>\n",
       "      <th>TCGA-AB-2862-03A</th>\n",
       "      <th>TCGA-AB-2980-03A</th>\n",
       "      <th>TCGA-AB-2965-03A</th>\n",
       "      <th>TCGA-AB-2835-03A</th>\n",
       "      <th>TCGA-AB-2885-03A</th>\n",
       "      <th>TCGA-AB-2936-03A</th>\n",
       "      <th>TCGA-AB-2880-03A</th>\n",
       "      <th>TCGA-AB-2932-03A</th>\n",
       "      <th>TCGA-AB-2925-03A</th>\n",
       "      <th>TCGA-AB-2940-03A</th>\n",
       "    </tr>\n",
       "  </thead>\n",
       "  <tbody>\n",
       "    <tr>\n",
       "      <th>0</th>\n",
       "      <td>ENSG00000000003.13</td>\n",
       "      <td>5.129283</td>\n",
       "      <td>3.700440</td>\n",
       "      <td>5.209453</td>\n",
       "      <td>2.000000</td>\n",
       "      <td>3.906891</td>\n",
       "      <td>2.321928</td>\n",
       "      <td>3.807355</td>\n",
       "      <td>1.000000</td>\n",
       "      <td>0.000000</td>\n",
       "      <td>...</td>\n",
       "      <td>1.584963</td>\n",
       "      <td>5.491853</td>\n",
       "      <td>4.459432</td>\n",
       "      <td>2.584963</td>\n",
       "      <td>7.044394</td>\n",
       "      <td>3.321928</td>\n",
       "      <td>1.584963</td>\n",
       "      <td>3.321928</td>\n",
       "      <td>3.000000</td>\n",
       "      <td>3.000000</td>\n",
       "    </tr>\n",
       "    <tr>\n",
       "      <th>1</th>\n",
       "      <td>ENSG00000000005.5</td>\n",
       "      <td>1.000000</td>\n",
       "      <td>1.000000</td>\n",
       "      <td>0.000000</td>\n",
       "      <td>0.000000</td>\n",
       "      <td>0.000000</td>\n",
       "      <td>0.000000</td>\n",
       "      <td>0.000000</td>\n",
       "      <td>0.000000</td>\n",
       "      <td>0.000000</td>\n",
       "      <td>...</td>\n",
       "      <td>0.000000</td>\n",
       "      <td>1.584963</td>\n",
       "      <td>0.000000</td>\n",
       "      <td>0.000000</td>\n",
       "      <td>0.000000</td>\n",
       "      <td>0.000000</td>\n",
       "      <td>0.000000</td>\n",
       "      <td>1.000000</td>\n",
       "      <td>0.000000</td>\n",
       "      <td>1.000000</td>\n",
       "    </tr>\n",
       "    <tr>\n",
       "      <th>2</th>\n",
       "      <td>ENSG00000000419.11</td>\n",
       "      <td>9.972980</td>\n",
       "      <td>9.885696</td>\n",
       "      <td>9.868823</td>\n",
       "      <td>9.301496</td>\n",
       "      <td>9.643856</td>\n",
       "      <td>9.364135</td>\n",
       "      <td>9.896332</td>\n",
       "      <td>10.386940</td>\n",
       "      <td>8.771489</td>\n",
       "      <td>...</td>\n",
       "      <td>8.957102</td>\n",
       "      <td>10.340963</td>\n",
       "      <td>10.161132</td>\n",
       "      <td>9.823367</td>\n",
       "      <td>8.968667</td>\n",
       "      <td>9.308339</td>\n",
       "      <td>9.149747</td>\n",
       "      <td>9.426265</td>\n",
       "      <td>9.643856</td>\n",
       "      <td>9.442943</td>\n",
       "    </tr>\n",
       "    <tr>\n",
       "      <th>3</th>\n",
       "      <td>ENSG00000000457.12</td>\n",
       "      <td>9.980140</td>\n",
       "      <td>10.052568</td>\n",
       "      <td>10.965784</td>\n",
       "      <td>9.463524</td>\n",
       "      <td>10.231221</td>\n",
       "      <td>9.978710</td>\n",
       "      <td>10.293472</td>\n",
       "      <td>10.163650</td>\n",
       "      <td>8.573647</td>\n",
       "      <td>...</td>\n",
       "      <td>8.936638</td>\n",
       "      <td>9.672425</td>\n",
       "      <td>9.741467</td>\n",
       "      <td>8.965784</td>\n",
       "      <td>9.726218</td>\n",
       "      <td>10.318543</td>\n",
       "      <td>9.405141</td>\n",
       "      <td>9.417853</td>\n",
       "      <td>9.489848</td>\n",
       "      <td>9.733015</td>\n",
       "    </tr>\n",
       "    <tr>\n",
       "      <th>4</th>\n",
       "      <td>ENSG00000000460.15</td>\n",
       "      <td>9.517669</td>\n",
       "      <td>9.823367</td>\n",
       "      <td>10.388017</td>\n",
       "      <td>8.317413</td>\n",
       "      <td>9.392317</td>\n",
       "      <td>9.554589</td>\n",
       "      <td>9.154818</td>\n",
       "      <td>8.857981</td>\n",
       "      <td>8.754888</td>\n",
       "      <td>...</td>\n",
       "      <td>8.434628</td>\n",
       "      <td>9.946906</td>\n",
       "      <td>9.544964</td>\n",
       "      <td>9.264443</td>\n",
       "      <td>9.768184</td>\n",
       "      <td>9.874981</td>\n",
       "      <td>9.548822</td>\n",
       "      <td>9.207014</td>\n",
       "      <td>9.273796</td>\n",
       "      <td>9.607330</td>\n",
       "    </tr>\n",
       "  </tbody>\n",
       "</table>\n",
       "<p>5 rows × 152 columns</p>\n",
       "</div>"
      ],
      "text/plain": [
       "           Ensembl_ID  TCGA-AB-2949-03B  TCGA-AB-2918-03A  TCGA-AB-2943-03A  \\\n",
       "0  ENSG00000000003.13          5.129283          3.700440          5.209453   \n",
       "1   ENSG00000000005.5          1.000000          1.000000          0.000000   \n",
       "2  ENSG00000000419.11          9.972980          9.885696          9.868823   \n",
       "3  ENSG00000000457.12          9.980140         10.052568         10.965784   \n",
       "4  ENSG00000000460.15          9.517669          9.823367         10.388017   \n",
       "\n",
       "   TCGA-AB-2851-03A  TCGA-AB-2822-03A  TCGA-AB-2939-03A  TCGA-AB-2931-03A  \\\n",
       "0          2.000000          3.906891          2.321928          3.807355   \n",
       "1          0.000000          0.000000          0.000000          0.000000   \n",
       "2          9.301496          9.643856          9.364135          9.896332   \n",
       "3          9.463524         10.231221          9.978710         10.293472   \n",
       "4          8.317413          9.392317          9.554589          9.154818   \n",
       "\n",
       "   TCGA-AB-2921-03A  TCGA-AB-2937-03A  ...  TCGA-AB-2862-03A  \\\n",
       "0          1.000000          0.000000  ...          1.584963   \n",
       "1          0.000000          0.000000  ...          0.000000   \n",
       "2         10.386940          8.771489  ...          8.957102   \n",
       "3         10.163650          8.573647  ...          8.936638   \n",
       "4          8.857981          8.754888  ...          8.434628   \n",
       "\n",
       "   TCGA-AB-2980-03A  TCGA-AB-2965-03A  TCGA-AB-2835-03A  TCGA-AB-2885-03A  \\\n",
       "0          5.491853          4.459432          2.584963          7.044394   \n",
       "1          1.584963          0.000000          0.000000          0.000000   \n",
       "2         10.340963         10.161132          9.823367          8.968667   \n",
       "3          9.672425          9.741467          8.965784          9.726218   \n",
       "4          9.946906          9.544964          9.264443          9.768184   \n",
       "\n",
       "   TCGA-AB-2936-03A  TCGA-AB-2880-03A  TCGA-AB-2932-03A  TCGA-AB-2925-03A  \\\n",
       "0          3.321928          1.584963          3.321928          3.000000   \n",
       "1          0.000000          0.000000          1.000000          0.000000   \n",
       "2          9.308339          9.149747          9.426265          9.643856   \n",
       "3         10.318543          9.405141          9.417853          9.489848   \n",
       "4          9.874981          9.548822          9.207014          9.273796   \n",
       "\n",
       "   TCGA-AB-2940-03A  \n",
       "0          3.000000  \n",
       "1          1.000000  \n",
       "2          9.442943  \n",
       "3          9.733015  \n",
       "4          9.607330  \n",
       "\n",
       "[5 rows x 152 columns]"
      ]
     },
     "execution_count": 3,
     "metadata": {},
     "output_type": "execute_result"
    }
   ],
   "source": [
    "df = pd.read_csv(\"TCGA-LAML.htseq_counts.tsv.gz\", delimiter=\"\\t\")\n",
    "df.head()"
   ]
  },
  {
   "cell_type": "code",
   "execution_count": 4,
   "id": "8e60bb50",
   "metadata": {},
   "outputs": [],
   "source": [
    "expression = df.iloc[:, 1:].to_numpy()"
   ]
  },
  {
   "cell_type": "code",
   "execution_count": 5,
   "id": "4fae7bbe",
   "metadata": {},
   "outputs": [],
   "source": [
    "tsne = sklearn.manifold.TSNE(\n",
    "    n_components=2,\n",
    "    metric=\"euclidean\",\n",
    "    init=\"pca\",\n",
    "    learning_rate=\"auto\",\n",
    "    n_jobs=6,\n",
    "    random_state=42,\n",
    ")\n"
   ]
  },
  {
   "cell_type": "code",
   "execution_count": 6,
   "id": "d9328a31",
   "metadata": {
    "scrolled": true
   },
   "outputs": [
    {
     "name": "stderr",
     "output_type": "stream",
     "text": [
      "/tmp/bmi511/venv/lib/python3.9/site-packages/sklearn/manifold/_t_sne.py:982: FutureWarning: The PCA initialization in TSNE will change to have the standard deviation of PC1 equal to 1e-4 in 1.2. This will ensure better convergence.\n",
      "  warnings.warn(\n"
     ]
    }
   ],
   "source": [
    "expression_embedded = tsne.fit_transform(expression)"
   ]
  },
  {
   "cell_type": "code",
   "execution_count": 12,
   "id": "0a06997e",
   "metadata": {
    "scrolled": true
   },
   "outputs": [
    {
     "data": {
      "text/plain": [
       "(60488, 2)"
      ]
     },
     "execution_count": 12,
     "metadata": {},
     "output_type": "execute_result"
    }
   ],
   "source": [
    "expression_embedded.shape"
   ]
  },
  {
   "cell_type": "code",
   "execution_count": 18,
   "id": "a8781dcb",
   "metadata": {
    "scrolled": false
   },
   "outputs": [
    {
     "data": {
      "text/plain": [
       "Text(0.5, 1.0, 't-SNE embedding of RNASeq counts (TCGA-LAML)')"
      ]
     },
     "execution_count": 18,
     "metadata": {},
     "output_type": "execute_result"
    },
    {
     "data": {
      "image/png": "[encoded data removed]",
      "text/plain": [
       "<Figure size 720x576 with 1 Axes>"
      ]
     },
     "metadata": {
      "needs_background": "light"
     },
     "output_type": "display_data"
    }
   ],
   "source": [
    "fig, ax = plt.subplots(figsize=(10, 8))\n",
    "ax.scatter(x=expression_embedded[:, 0], y=expression_embedded[:, 1])\n",
    "ax.set_title(\"t-SNE embedding of RNASeq counts (TCGA-LAML)\")"
   ]
  },
  {
   "cell_type": "code",
   "execution_count": null,
   "id": "425f8f77",
   "metadata": {},
   "outputs": [],
   "source": []
  },
  {
   "cell_type": "code",
   "execution_count": null,
   "id": "4c925a4c",
   "metadata": {},
   "outputs": [],
   "source": []
  },
  {
   "cell_type": "code",
   "execution_count": null,
   "id": "64dde002",
   "metadata": {},
   "outputs": [],
   "source": []
  }
 ],
 "metadata": {
  "kernelspec": {
   "display_name": "Python 3 (ipykernel)",
   "language": "python",
   "name": "python3"
  },
  "language_info": {
   "codemirror_mode": {
    "name": "ipython",
    "version": 3
   },
   "file_extension": ".py",
   "mimetype": "text/x-python",
   "name": "python",
   "nbconvert_exporter": "python",
   "pygments_lexer": "ipython3",
   "version": "3.9.6"
  }
 },
 "nbformat": 4,
 "nbformat_minor": 5
}
